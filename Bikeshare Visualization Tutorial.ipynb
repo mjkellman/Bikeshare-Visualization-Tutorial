{
 "cells": [
  {
   "cell_type": "markdown",
   "metadata": {},
   "source": [
    "## Introduction\n",
    "\n",
    "This notebook will take you through an visual exploratory analysis of DC's capital bikeshare data. Many large cities such as Seattle and New York City also offer similar services. With the vast usership in these Metropolitan areas there are many interesting trends hidden behind the millions of rides per year. Through different visualization techiniques we can see the connections between how people choose to use services. With their large userbases these datasets offer rich and interesting real world data ripe for many different exploratory analysises!   \n"
   ]
  },
  {
   "cell_type": "markdown",
   "metadata": {},
   "source": [
    "## Tutorial Content\n",
    "\n",
    "This notebook will be split up into the following sections:\n",
    "- [Importing necessary libraries](#Libraries)\n",
    "- [Acquiring Acquisition](#Data-Acquisition)\n",
    "- [Preliminary Analysis](#Preliminary-Analysis)\n",
    "- [Rider Type](#Rider-Type)\n",
    "- [Heatmaps](#Heatmaps)"
   ]
  },
  {
   "cell_type": "markdown",
   "metadata": {},
   "source": [
    "## Libraries"
   ]
  },
  {
   "cell_type": "code",
   "execution_count": null,
   "metadata": {},
   "outputs": [],
   "source": [
    "import pandas as pd\n",
    "import numpy as np\n",
    "import math\n",
    "import matplotlib.pyplot as plt"
   ]
  },
  {
   "cell_type": "markdown",
   "metadata": {},
   "source": [
    "## Data Acquisition\n",
    "\n",
    "[Capital bike share](https://www.capitalbikeshare.com/system-data) offers datasets that have been semi-cleaned:\n",
    "\n",
    "\"This data has been processed to remove trips that are taken by staff as they service and inspect the system, trips that are taken to/from any of our “test” stations at our warehouses and any trips lasting less than 60 seconds (potentially false starts or users trying to re-dock a bike to ensure it's secure).\"\n",
    "\n",
    "Different years of the [capital bikeshare data](https://s3.amazonaws.com/capitalbikeshare-data/index.html) can be downloaded and analyzed. I randomly choose to analyze the 2015 dataset, although this tutorial could be done with any of the years offered. The capital bike share data splits each year into 4 quarters, each with its own cvs file. These can be loaded in via Pandas read_csv function. \n"
   ]
  },
  {
   "cell_type": "code",
   "execution_count": null,
   "metadata": {},
   "outputs": [],
   "source": [
    "Q1 = pd.read_csv(\"2015-capitalbikeshare-tripdata/2015Q1-capitalbikeshare-tripdata.csv\", \n",
    "                 parse_dates=['Start date', 'End date'], infer_datetime_format=True)\n",
    "Q2 = pd.read_csv(\"2015-capitalbikeshare-tripdata/2015Q2-capitalbikeshare-tripdata.csv\", \n",
    "                 parse_dates=['Start date', 'End date'], infer_datetime_format=True)\n",
    "Q3 = pd.read_csv(\"2015-capitalbikeshare-tripdata/2015Q3-capitalbikeshare-tripdata.csv\", \n",
    "                 parse_dates=['Start date', 'End date'], infer_datetime_format=True)\n",
    "Q4 = pd.read_csv(\"2015-capitalbikeshare-tripdata/2015Q4-capitalbikeshare-tripdata.csv\", \n",
    "                 parse_dates=['Start date', 'End date'], infer_datetime_format=True)"
   ]
  },
  {
   "cell_type": "markdown",
   "metadata": {},
   "source": [
    "We can see the different fields given to us by printing the head of the first quarter of data:"
   ]
  },
  {
   "cell_type": "code",
   "execution_count": null,
   "metadata": {},
   "outputs": [],
   "source": [
    "Q1.head()"
   ]
  },
  {
   "cell_type": "markdown",
   "metadata": {},
   "source": [
    "- Duration: Duration of trip (in seconds)\n",
    "- Start Date: Includes start date and time\n",
    "- End Date: Includes end date and time\n",
    "- Start Station: Includes starting station name and number\n",
    "- End Station: Includes ending station name and number\n",
    "- Bike Number: Includes ID number of bike used for the trip\n",
    "- Member Type: Indicates whether user was a \"registered\" member (Annual Member, 30-Day Member or Day Key Member) or a \"casual\" rider (Single Trip, 24-Hour Pass, 3-Day Pass or 5-Day Pass)\n",
    "\n",
    "With seconds being a very short time interval, I decided a more representative notion of trip duration would be rounded integer minutes. To do this we can apply a function to convert the units:"
   ]
  },
  {
   "cell_type": "code",
   "execution_count": null,
   "metadata": {},
   "outputs": [],
   "source": [
    "def seconds_to_minutes(s):\n",
    "    return math.ceil(s/60)\n",
    "\n",
    "Q1['Duration'] = Q1['Duration'].apply(seconds_to_minutes)\n",
    "Q2['Duration'] = Q2['Duration'].apply(seconds_to_minutes)\n",
    "Q3['Duration'] = Q3['Duration'].apply(seconds_to_minutes)\n",
    "Q4['Duration'] = Q4['Duration'].apply(seconds_to_minutes)"
   ]
  },
  {
   "cell_type": "markdown",
   "metadata": {},
   "source": [
    "## Preliminary Analysis\n",
    "\n",
    "We can now begin some preliminary analysis of the date. Since biking is highly dependant on weather we can first plot histograms of the trip duration for the different quarters."
   ]
  },
  {
   "cell_type": "code",
   "execution_count": null,
   "metadata": {},
   "outputs": [],
   "source": [
    "plt.hist(Q1[\"Duration\"], bins=np.arange(61), alpha=0.5, label='Q1')\n",
    "plt.hist(Q2[\"Duration\"], bins=np.arange(61), alpha=0.5, label='Q2')\n",
    "plt.hist(Q3[\"Duration\"], bins=np.arange(61), alpha=0.5, label='Q3')\n",
    "plt.hist(Q4[\"Duration\"], bins=np.arange(61), alpha=0.5, label='Q4')\n",
    "\n",
    "plt.legend(loc='upper right')\n",
    "plt.show()"
   ]
  },
  {
   "cell_type": "markdown",
   "metadata": {},
   "source": [
    "Here we can see that for quarters the duration of rides is skewed to the right, which makes intuitive sense. However, the dates the for the quarters are not split along seasons, thus to get a more informative plot of ride duration by season we need to combine all the quarters and add a new attribute \"Season\" which I will define as follows:\n",
    "- Spring: March 1 to May 31 (Season 0)\n",
    "- Summer: June 1 to August 31 (Season 1)\n",
    "- Fall: September 1 to November 30 (Season 2)\n",
    "- Winter: December 1 to February 28/29 (Season 3)\n",
    "I am going to use the assumption that ride season can be classified by the month of their start date."
   ]
  },
  {
   "cell_type": "code",
   "execution_count": null,
   "metadata": {},
   "outputs": [],
   "source": [
    "def date_to_season(date):\n",
    "    m = date.month\n",
    "    if (m == 12 or m == 1 or m == 2):\n",
    "        return \"Winter\"\n",
    "    if (m == 3 or m == 4 or m == 5):\n",
    "        return \"Spring\"\n",
    "    if (m == 6 or m == 7 or m == 8):\n",
    "        return \"Summer\"\n",
    "    if (m == 9 or m == 10 or m == 11):\n",
    "        return \"Fall\"\n",
    "    \n",
    "\n",
    "AllTrips = pd.concat([Q1, Q2, Q3, Q4])\n",
    "AllTrips[\"Season\"] = AllTrips[\"Start date\"].apply(date_to_season)"
   ]
  },
  {
   "cell_type": "code",
   "execution_count": null,
   "metadata": {},
   "outputs": [],
   "source": [
    "for season, data in AllTrips.groupby(\"Season\"):\n",
    "    plt.hist(data[\"Duration\"], bins=np.arange(61), alpha=0.5, label=season)\n",
    "    \n",
    "plt.legend(loc='upper right')\n",
    "plt.show()"
   ]
  },
  {
   "cell_type": "markdown",
   "metadata": {},
   "source": [
    "We can see that greater than 2 overlapping colors the histograms are very unreadable. Thus making these subplots with the same axis is going to make the visualization much more meaningful."
   ]
  },
  {
   "cell_type": "code",
   "execution_count": null,
   "metadata": {},
   "outputs": [],
   "source": [
    "fig, axes = plt.subplots(nrows=1, ncols=4, sharex=True, sharey=True,figsize=(12,3))\n",
    "\n",
    "for ((season, data), ax) in zip(AllTrips.groupby(\"Season\"), axes.flatten()):\n",
    "    ax.set_title(season)\n",
    "    ax.hist(data[\"Duration\"], bins=np.arange(61))\n",
    "    ax.set_xlabel('Ride duration')\n",
    "    if (season == \"Fall\"):\n",
    "        ax.set_ylabel('Number of rides')\n",
    "    \n",
    "# fig.tight_layout()\n",
    "plt.show()"
   ]
  },
  {
   "cell_type": "markdown",
   "metadata": {},
   "source": [
    "These plots are beginning to be a little more informative of the bike share data user base. We can see that the distribution of ride duration vs number of rides per season. We can see that this distribution is about the same for all seasons with the exception that the number of rides in winter is significantly lower."
   ]
  },
  {
   "cell_type": "markdown",
   "metadata": {},
   "source": [
    "## Rider Type\n",
    "\n",
    "The capital bike share allows for paid and non paid usage of their bikes. We can analyze how difference in customer affects the usage of their bikes. It would be interesting to see how paid members use the bikes differently. We could, for example, hypothesize that paid members would use the bikes more on weekdays for things such as commuting while casual users might ride more on leisure days (weekends). Here I first add two new columns to the data:\n",
    "- Type of day: weekend or weekday\n",
    "- Day: 0-6 (Monday through Sunday)"
   ]
  },
  {
   "cell_type": "code",
   "execution_count": null,
   "metadata": {},
   "outputs": [],
   "source": [
    "def day_to_weekend(date):\n",
    "    d = date.weekday()\n",
    "    if (d < 5):\n",
    "        return \"weekday\"\n",
    "    return \"weekend\"\n",
    "\n",
    "AllTrips['Type of day'] = AllTrips[\"Start date\"].apply(day_to_weekend)\n",
    "AllTrips['Day'] = AllTrips[\"Start date\"].dt.weekday"
   ]
  },
  {
   "cell_type": "markdown",
   "metadata": {},
   "source": [
    "We can now group the data by member type and day of the week to see how paying vs non paying member usage differs."
   ]
  },
  {
   "cell_type": "code",
   "execution_count": null,
   "metadata": {},
   "outputs": [],
   "source": [
    "temp = AllTrips.groupby(['Member type', 'Day'])\n",
    "D = {}\n",
    "M = []\n",
    "C = []\n",
    "for t,v in temp:\n",
    "    D[t] = v.count()['Day']\n",
    "    if (t[0] == 'Casual'):\n",
    "        C.append(D[t])\n",
    "    else:\n",
    "        M.append(D[t])"
   ]
  },
  {
   "cell_type": "code",
   "execution_count": null,
   "metadata": {},
   "outputs": [],
   "source": [
    "days = [0, 1, 2, 3, 4, 5, 6]\n",
    "plt.bar(days, M, alpha = .5, label='Member')\n",
    "plt.bar(days, C, alpha = .5, label='Casual')\n",
    "plt.legend(loc='upper right')\n",
    "plt.xlabel(\"Day of week\")\n",
    "plt.ylabel(\"Number of rides\")\n",
    "plt.show()"
   ]
  },
  {
   "cell_type": "markdown",
   "metadata": {},
   "source": [
    "This bar graph is interesting because it shows that casual riders tend to ride on the weekend more often while paying members tend to ride more on weekdays.\n",
    "\n",
    "Another interesting statistic to view would be comparing the start time of trips of members vs non members."
   ]
  },
  {
   "cell_type": "code",
   "execution_count": null,
   "metadata": {},
   "outputs": [],
   "source": [
    "MHours = [0]*24\n",
    "CHours = [0]*24\n",
    "hours = [x for x in range(24)]\n",
    "for t, v in AllTrips.groupby([AllTrips['Start date'].dt.hour,'Member type']):\n",
    "    if (t[1] == \"Casual\"):\n",
    "        CHours[t[0]] = v.count()['Start date']\n",
    "    else:\n",
    "        MHours[t[0]] = v.count()['Start date']        \n",
    "        \n",
    "plt.bar(hours, MHours, alpha = .5, label='Member')\n",
    "plt.bar(hours, CHours, alpha = .5, label='Casual')\n",
    "plt.legend(loc='upper right')\n",
    "\n",
    "plt.xlabel(\"Hour of day\")\n",
    "plt.ylabel(\"Number of rides\")\n",
    "plt.show()"
   ]
  },
  {
   "cell_type": "markdown",
   "metadata": {},
   "source": [
    "Not surprisingly we can see that members have a bimodal distribution with two modes around 6-8 AM and 5-6PM which makes sense because those are when people tend to commute to and from work. We also see that for casual riders a more gradual unimodal distribution centered around the middle of the day, this also makes sense for leisure riders who are not using the service to consistently travel to and from work.\n",
    "\n",
    "We can look a little deeper into the members/casual usage and plot the number of rides per hour per day to see if this bimodal distribution holds for both the weekdays and weekends."
   ]
  },
  {
   "cell_type": "code",
   "execution_count": null,
   "metadata": {},
   "outputs": [],
   "source": [
    "MHours = [[0 for x in range(24)] for y in range(7)] \n",
    "CHours = [[0 for x in range(24)] for y in range(7)]\n",
    "hours = [x for x in range(24)]\n",
    "for t, v in AllTrips.groupby([AllTrips['Start date'].dt.hour,'Member type','Day']):\n",
    "    if (t[1] == \"Casual\"):\n",
    "        CHours[t[2]][t[0]] = v.count()['Start date']\n",
    "    else:\n",
    "        MHours[t[2]][t[0]]  = v.count()['Start date']        \n",
    "\n",
    "fig, axes = plt.subplots(nrows=1, ncols=2,figsize=(14,4.5))\n",
    "for day in range(7):\n",
    "    axes[0].bar(hours, MHours[day], alpha = .9, label=\"day \" + str(day))\n",
    "axes[0].set_xlabel('Hour of day')\n",
    "axes[0].set_ylabel('Number of rides')\n",
    "axes[0].legend(loc='upper right')\n",
    "axes[0].set_title('Member')\n",
    "\n",
    "for day in range(7):\n",
    "    axes[1].bar(hours, CHours[6-day], alpha = .8, label=\"day \" + str(6-day))\n",
    "axes[1].set_xlabel('Hour of day')\n",
    "axes[1].set_ylabel('Number of rides')\n",
    "axes[1].legend(loc='upper right')\n",
    "axes[1].set_title('Casual')\n",
    "\n",
    "plt.show()"
   ]
  },
  {
   "cell_type": "markdown",
   "metadata": {},
   "source": [
    "This is interesting because it shows that for members the bimodal distribution only holds on weekdays and then on weekends the distribution becomes almost identical to the casual users (except with actual number of rides being still quite larger). This shows that the members use the service to commute on weekdays but then on weekends use the service in a similar leisurely manner as the casual users."
   ]
  },
  {
   "cell_type": "markdown",
   "metadata": {},
   "source": [
    "## Heatmaps\n",
    "\n",
    "Another interesting feature in the capital bike share is the location associated with the start and the end of trips. Since all of the data is centered in DC we can visualize a large amount by looking at a heat map of the trips start and end locations with respect to different variables. First we need to write a function to plot a heatmap for a given pandas dataframe.\n",
    "\n",
    "We can use the gmaps api to interact with Google Maps. First to install gmaps run in the terminal:\n",
    "\n",
    "    $ easy_install gmaps\n",
    "   \n",
    "Once you install gmaps you also need to get a [Google Maps API key](https://developers.google.com/maps/documentation/javascript/get-api-key). Simply click the \"get a key\" button and copy the given key to use below."
   ]
  },
  {
   "cell_type": "code",
   "execution_count": null,
   "metadata": {},
   "outputs": [],
   "source": [
    "import gmaps\n",
    "API_KEY=\"\" # Removed my API key, you can generate your own following the above link\n",
    "gmaps.configure(api_key=API_KEY)"
   ]
  },
  {
   "cell_type": "markdown",
   "metadata": {},
   "source": [
    "The gmaps API uses longitude and latitude pairs, however the capital bike share data does not naturally have this information embedded. Thus to use this API we will need to map each bike share terminal to a longitude latitude pair. Conveniently we can download the [locations](http://opendata.dc.gov/datasets/capital-bike-share-locations) of all of the capital bike share terminals. This dataset has more information in it than we need. All that is left to do is match the TERMINAL_NUMBERs in both dataframes. We can use the head command again to see what columns we are dealing with."
   ]
  },
  {
   "cell_type": "code",
   "execution_count": null,
   "metadata": {},
   "outputs": [],
   "source": [
    "locs = pd.read_csv(\"Capital_Bike_Share_Locations.csv\")\n",
    "locs.head()"
   ]
  },
  {
   "cell_type": "markdown",
   "metadata": {},
   "source": [
    "The gmaps API needs a tuple of (lat,long) pairs, thus we need to combine these columns in this new dataframe."
   ]
  },
  {
   "cell_type": "code",
   "execution_count": null,
   "metadata": {},
   "outputs": [],
   "source": [
    "temp = pd.DataFrame()\n",
    "temp['Pairs'] = list(zip(locs['LATITUDE'], locs['LONGITUDE']))\n",
    "temp['TERMINAL_NUMBER'] = locs['TERMINAL_NUMBER']\n",
    "AllTripsWithLocs = AllTrips.merge(temp, left_on='Start station number', right_on='TERMINAL_NUMBER')\n",
    "AllTripsWithLocs.head()"
   ]
  },
  {
   "cell_type": "markdown",
   "metadata": {},
   "source": [
    "Now that we generated all of the (lat, long) pairs for the different stations we can make a heat map to see where they are. Below I have made a heat map for all of the locations offered by the capital bike share. This is unrelated to the actual data on any given day.\n",
    "\n",
    "Below for all of the maps I have included already rendered screenshots and commented out the \"fig\" line because these have problems rendering. To run render these maps locally simply uncomment the \"fig\" line before each map."
   ]
  },
  {
   "cell_type": "code",
   "execution_count": null,
   "metadata": {
    "scrolled": false
   },
   "outputs": [],
   "source": [
    "fig = gmaps.figure()\n",
    "fig.add_layer(gmaps.heatmap_layer(temp['Pairs']))\n",
    "#fig"
   ]
  },
  {
   "cell_type": "markdown",
   "metadata": {},
   "source": [
    "<img src=\"ss1.png\">"
   ]
  },
  {
   "cell_type": "markdown",
   "metadata": {},
   "source": [
    "Now that we have familiarized ourselves with the gmaps API we can delve into the different locations used by different types of user. \n",
    "\n",
    "First I am going to plot the stations used by all of the casual riders in the dataset."
   ]
  },
  {
   "cell_type": "code",
   "execution_count": null,
   "metadata": {},
   "outputs": [],
   "source": [
    "fig = gmaps.figure()\n",
    "fig.add_layer(gmaps.heatmap_layer(AllTripsWithLocs[AllTripsWithLocs['Member type'] == 'Casual']['Pairs']))\n",
    "#fig"
   ]
  },
  {
   "cell_type": "markdown",
   "metadata": {},
   "source": [
    "<img src=\"ss2.png\">"
   ]
  },
  {
   "cell_type": "markdown",
   "metadata": {},
   "source": [
    "We can compare this to all of the stations used by paid members."
   ]
  },
  {
   "cell_type": "code",
   "execution_count": null,
   "metadata": {},
   "outputs": [],
   "source": [
    "fig = gmaps.figure()\n",
    "Members = AllTripsWithLocs['Member type'] == 'Member'\n",
    "Casuals = AllTripsWithLocs['Member type'] == 'Casual'\n",
    "Weekdays =  AllTripsWithLocs['Type of day'] == 'weekday'\n",
    "Weekends =  AllTripsWithLocs['Type of day'] == 'weekend'\n",
    "fig.add_layer(gmaps.heatmap_layer(AllTripsWithLocs[Members]['Pairs']))\n",
    "#fig"
   ]
  },
  {
   "cell_type": "markdown",
   "metadata": {},
   "source": [
    "<img src=\"ss3.png\">"
   ]
  },
  {
   "cell_type": "markdown",
   "metadata": {},
   "source": [
    "Not surprisingly we can see that the paid members use a much larger subset and are more active in the city than the non paid members. However this leads us to question if we can see any differences between paid members on the weekend vs not on the weekend, with the hypothesis being that this service could be used differently to commute vs for leisure."
   ]
  },
  {
   "cell_type": "code",
   "execution_count": null,
   "metadata": {},
   "outputs": [],
   "source": [
    "fig = gmaps.figure()\n",
    "fig.add_layer(gmaps.heatmap_layer(AllTripsWithLocs[Members & Weekdays]['Pairs']))\n",
    "#fig"
   ]
  },
  {
   "cell_type": "markdown",
   "metadata": {},
   "source": [
    "<img src=\"ss4.png\">"
   ]
  },
  {
   "cell_type": "markdown",
   "metadata": {},
   "source": [
    "Likewise we can generate a heat map for members on weekends."
   ]
  },
  {
   "cell_type": "code",
   "execution_count": null,
   "metadata": {},
   "outputs": [],
   "source": [
    "fig = gmaps.figure()\n",
    "fig.add_layer(gmaps.heatmap_layer(AllTripsWithLocs[Members & Weekends]['Pairs']))\n",
    "#fig"
   ]
  },
  {
   "cell_type": "markdown",
   "metadata": {},
   "source": [
    "<img src=\"ss5.png\">"
   ]
  },
  {
   "cell_type": "markdown",
   "metadata": {},
   "source": [
    "Although these two heat maps are quite similar, one could delve deeper and split the data up by even more variables such as start time and see how the locations of use changes over time.\n",
    "\n",
    "Datasets Used: \n",
    "Capital bike share dataset: https://www.capitalbikeshare.com/system-data\n",
    "\n",
    "Capital bike share location dataset: http://opendata.dc.gov/datasets/capital-bike-share-locations"
   ]
  }
 ],
 "metadata": {
  "kernelspec": {
   "display_name": "Python 3",
   "language": "python",
   "name": "python3"
  },
  "language_info": {
   "codemirror_mode": {
    "name": "ipython",
    "version": 3
   },
   "file_extension": ".py",
   "mimetype": "text/x-python",
   "name": "python",
   "nbconvert_exporter": "python",
   "pygments_lexer": "ipython3",
   "version": "3.6.4"
  }
 },
 "nbformat": 4,
 "nbformat_minor": 2
}
